{
 "cells": [
  {
   "cell_type": "code",
   "execution_count": 1,
   "metadata": {},
   "outputs": [],
   "source": [
    "def make_setup(proj_name, author, email, description):\n",
    "    setup_template = \"\"\"# -*- coding: utf-8 -*-\n",
    "\n",
    "from setuptools import setup, find_packages\n",
    "\n",
    "\n",
    "with open('README.md') as f:\n",
    "    readme = f.read()\n",
    "\n",
    "with open('LICENSE') as f:\n",
    "    license = f.read()\n",
    "\n",
    "setup(\n",
    "    name='{name}',\n",
    "    version='0.1.0',\n",
    "    description='{desc}',\n",
    "    long_description=readme,\n",
    "    author='{author}',\n",
    "    author_email='{email}',\n",
    "    url='',\n",
    "    license=license,\n",
    "    packages=find_packages(exclude=('tests', 'docs'))\n",
    ")\n",
    "\"\"\".format(name=proj_name, author=author, email=email, desc=description)\n",
    "    return setup_template"
   ]
  },
  {
   "cell_type": "code",
   "execution_count": 2,
   "metadata": {},
   "outputs": [],
   "source": [
    "def make_license(year, author):\n",
    "    license = \"\"\"Copyright (c) {year} {author}\n",
    "All rights reserved.\n",
    "\n",
    "Redistribution and use in source and binary forms, with or without modification, are permitted provided that the following conditions are met:\n",
    "\n",
    "Redistributions of source code must retain the above copyright notice, this list of conditions and the following disclaimer.\n",
    "Redistributions in binary form must reproduce the above copyright notice, this list of conditions and the following disclaimer in the documentation and/or other materials provided with the distribution.\n",
    "\n",
    "THIS SOFTWARE IS PROVIDED BY THE COPYRIGHT HOLDERS AND CONTRIBUTORS \"AS IS\" AND ANY EXPRESS OR IMPLIED WARRANTIES, INCLUDING, BUT NOT LIMITED TO, THE IMPLIED WARRANTIES OF MERCHANTABILITY AND FITNESS FOR A PARTICULAR PURPOSE ARE DISCLAIMED. \n",
    "IN NO EVENT SHALL THE COPYRIGHT HOLDER OR CONTRIBUTORS BE LIABLE FOR ANY DIRECT, INDIRECT, INCIDENTAL, SPECIAL, EXEMPLARY, OR CONSEQUENTIAL DAMAGES (INCLUDING, BUT NOT LIMITED TO, PROCUREMENT OF SUBSTITUTE GOODS OR SERVICES; LOSS OF USE, DATA, OR PROFITS; \n",
    "OR BUSINESS INTERRUPTION) HOWEVER CAUSED AND ON ANY THEORY OF LIABILITY, WHETHER IN CONTRACT, STRICT LIABILITY, OR TORT (INCLUDING NEGLIGENCE OR OTHERWISE) ARISING IN ANY WAY OUT OF THE USE OF THIS SOFTWARE, EVEN IF ADVISED OF THE POSSIBILITY OF SUCH DAMAGE.\n",
    "\"\"\".format(year=year, author=author)\n",
    "    return license"
   ]
  },
  {
   "cell_type": "code",
   "execution_count": 3,
   "metadata": {},
   "outputs": [],
   "source": [
    "import os\n",
    "proj_name = \"cool-new-app\"\n",
    "description = 'a simple, but very cool, new app'\n",
    "author = \"Ray Buhr\"\n",
    "email = \"rebuhr@gmail.com\"\n",
    "year = 2017"
   ]
  },
  {
   "cell_type": "code",
   "execution_count": 4,
   "metadata": {},
   "outputs": [
    {
     "data": {
      "text/plain": [
       "'/home/rayb/Projects/bootstrap_pypkg'"
      ]
     },
     "execution_count": 4,
     "metadata": {},
     "output_type": "execute_result"
    }
   ],
   "source": [
    "os.path.abspath(os.curdir)"
   ]
  },
  {
   "cell_type": "code",
   "execution_count": 5,
   "metadata": {},
   "outputs": [],
   "source": [
    "os.chdir(\"/home/rayb/Projects/bootstrap_pypkg/\")"
   ]
  },
  {
   "cell_type": "code",
   "execution_count": 7,
   "metadata": {},
   "outputs": [
    {
     "name": "stdout",
     "output_type": "stream",
     "text": [
      "/home/rayb/Projects/bootstrap_pypkg \n",
      "/home/rayb/Projects/bootstrap_pypkg/cool-new-app\n"
     ]
    }
   ],
   "source": [
    "pwd = os.path.abspath(os.curdir)\n",
    "proj_dir = os.path.join(pwd, proj_name)\n",
    "print(pwd, \"\\n\"+proj_dir)"
   ]
  },
  {
   "cell_type": "code",
   "execution_count": 8,
   "metadata": {},
   "outputs": [],
   "source": [
    "# create top level project files\n",
    "os.mkdir(proj_dir)\n",
    "os.chdir(proj_dir)\n",
    "with open(\"README.md\", \"w\") as f:\n",
    "    f.write(\"# {}\\n\\n{}\\n\".format(proj_name, description))\n",
    "open(\"requirements.txt\", \"a\").close()\n",
    "with open(\"LICENSE\", \"w\") as f:\n",
    "    proj_license = make_license(year, author)\n",
    "    f.write(proj_license)\n",
    "with open(\"setup.py\", \"w\") as f:\n",
    "    proj_setup = make_setup(proj_name, author, email, description)\n",
    "    f.write(proj_setup)"
   ]
  },
  {
   "cell_type": "code",
   "execution_count": 9,
   "metadata": {},
   "outputs": [],
   "source": [
    "# make python package files\n",
    "proj_app = os.path.join(proj_name)\n",
    "os.mkdir(proj_app)\n",
    "os.chdir(proj_app)\n",
    "open(\"__init__.py\", \"a\").close()\n",
    "open(\"{}.py\".format(proj_name), \"a\").close()"
   ]
  },
  {
   "cell_type": "code",
   "execution_count": 10,
   "metadata": {},
   "outputs": [
    {
     "data": {
      "text/plain": [
       "'/home/rayb/Projects/bootstrap_pypkg/cool-new-app'"
      ]
     },
     "execution_count": 10,
     "metadata": {},
     "output_type": "execute_result"
    }
   ],
   "source": [
    "proj_dir"
   ]
  },
  {
   "cell_type": "code",
   "execution_count": 11,
   "metadata": {},
   "outputs": [],
   "source": [
    "# create test init file\n",
    "os.chdir(proj_dir)\n",
    "os.mkdir(\"tests\")\n",
    "os.chdir(\"tests\")\n",
    "open(\"__init__.py\", \"a\").close()\n",
    "open(\"test_{}.py\".format(proj_name), \"a\").close()"
   ]
  },
  {
   "cell_type": "code",
   "execution_count": 12,
   "metadata": {},
   "outputs": [],
   "source": [
    "# return to original directory\n",
    "os.chdir(pwd)"
   ]
  },
  {
   "cell_type": "code",
   "execution_count": null,
   "metadata": {},
   "outputs": [],
   "source": []
  }
 ],
 "metadata": {
  "kernelspec": {
   "display_name": "Python 3",
   "language": "python",
   "name": "python3"
  },
  "language_info": {
   "codemirror_mode": {
    "name": "ipython",
    "version": 3
   },
   "file_extension": ".py",
   "mimetype": "text/x-python",
   "name": "python",
   "nbconvert_exporter": "python",
   "pygments_lexer": "ipython3",
   "version": "3.6.2"
  }
 },
 "nbformat": 4,
 "nbformat_minor": 2
}
